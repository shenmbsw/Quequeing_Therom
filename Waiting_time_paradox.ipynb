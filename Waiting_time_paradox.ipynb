{
 "cells": [
  {
   "cell_type": "markdown",
   "metadata": {},
   "source": [
    "# Waiting time Paradox #\n",
    "\n",
    "When the arriving interval is fix value, t1 is equal to average arrival time $\\tau$.<br />\n",
    "When the arriving interval is a exponential distribution with the same average arrival time expectation $\\tau$.<br />\n",
    "Whicn is called [waiting time paradox](https://stats.stackexchange.com/questions/122722/please-explain-the-waiting-paradox).<br />\n",
    "The reason of that is  [the Memoryless Property](http://www.math.wm.edu/~leemis/chart/UDR/PDFs/ExponentialForgetfulness.pdf) of the Poisson Process.\n",
    "$$P(x>y+t|x>y) = \\frac{P(x>y+t|x>y)}{P(x>y)} = P(x>t)$$\n"
   ]
  },
  {
   "cell_type": "code",
   "execution_count": 9,
   "metadata": {
    "collapsed": false
   },
   "outputs": [
    {
     "name": "stdout",
     "output_type": "stream",
     "text": [
      "bl: 8.91972\n",
      "al, 9.37457\n",
      "tl: 18.29429000000003\n",
      "tau 10.177569999999992\n"
     ]
    },
    {
     "data": {
      "image/png": "[encoded data removed]",
      "text/plain": [
       "<matplotlib.figure.Figure at 0x2613f1b0940>"
      ]
     },
     "metadata": {},
     "output_type": "display_data"
    }
   ],
   "source": [
    "import numpy as np\n",
    "import random\n",
    "import matplotlib.pyplot as plt\n",
    "%matplotlib inline\n",
    "\n",
    "end_time = 100\n",
    "sample_rate = 0.005\n",
    "x = np.arange(0, end_time, sample_rate);\n",
    "y = np.zeros(np.shape(x))\n",
    "arr_time = 0\n",
    "\n",
    "insert_ind = int(random.random() * end_time // sample_rate)\n",
    "c = np.zeros(np.shape(x))\n",
    "c[insert_ind] = 1\n",
    "\n",
    "arr_list = [0]\n",
    "count = 0\n",
    "while 1:\n",
    "    arr_time = arr_time + np.random.exponential(10)\n",
    "    arr_ind = int(arr_time//sample_rate)\n",
    "    arr_list.append(arr_ind)\n",
    "    if arr_time < end_time:\n",
    "        y[arr_ind] = 1\n",
    "        if arr_list[count] < insert_ind and arr_list[count+1] > insert_ind:\n",
    "            b = (insert_ind - arr_list[count]) * sample_rate\n",
    "            a =  (arr_list[count+1] - insert_ind) * sample_rate\n",
    "        count+=1\n",
    "    else:\n",
    "        break\n",
    "\n",
    "plt.plot(x,y)\n",
    "plt.plot(x,c)\n",
    "\n",
    "#bl is a list contain the time interval between observer and last event happens\n",
    "#al is a list contain the time interval between observer and next event happens\n",
    "#tl is the sum of al and bl\n",
    "#ave is the interval of two event happen\n",
    "bl = []\n",
    "al = []\n",
    "tl = []\n",
    "ave = []\n",
    "\n",
    "for i in range(1000):\n",
    "    x = np.arange(0, end_time, sample_rate);\n",
    "    y = np.zeros(np.shape(x))\n",
    "    arr_time = 0\n",
    "    \n",
    "    insert_ind = int(random.random() * end_time // sample_rate)\n",
    "    c = np.zeros(np.shape(x))\n",
    "    c[insert_ind] = 1\n",
    "    \n",
    "    arr_list = [0]\n",
    "    count = 0\n",
    "    while 1:\n",
    "        arr_time = arr_time + np.random.exponential(10) #if change the arriving interval to fix value, t1 become tau.\n",
    "        arr_ind = int(arr_time//sample_rate)\n",
    "        arr_list.append(arr_ind)\n",
    "        if arr_time < end_time:\n",
    "            y[arr_ind] = 1\n",
    "            if arr_list[count] < insert_ind and arr_list[count+1] > insert_ind:\n",
    "                b = (insert_ind - arr_list[count]) * sample_rate\n",
    "                a = (arr_list[count+1] - insert_ind) * sample_rate\n",
    "                t = (arr_list[count+1] - arr_list[count]) *sample_rate  \n",
    "            count+=1\n",
    "        else:\n",
    "            break\n",
    "\n",
    "    bl.append(b)\n",
    "    al.append(a)\n",
    "    tl.append(t)\n",
    "    ave.append(arr_list[1]*sample_rate)\n",
    "\n",
    "#print(bl)\n",
    "print('bl:',sum(bl)/len(bl))\n",
    "#print(al)\n",
    "print('al,',sum(al)/len(al))\n",
    "\n",
    "print('tl:',sum(tl)/len(tl))\n",
    "\n",
    "print('tau',sum(ave)/len(ave))"
   ]
  }
 ],
 "metadata": {
  "kernelspec": {
   "display_name": "Python 3",
   "language": "python",
   "name": "python3"
  },
  "language_info": {
   "codemirror_mode": {
    "name": "ipython",
    "version": 3
   },
   "file_extension": ".py",
   "mimetype": "text/x-python",
   "name": "python",
   "nbconvert_exporter": "python",
   "pygments_lexer": "ipython3",
   "version": "3.6.0"
  }
 },
 "nbformat": 4,
 "nbformat_minor": 2
}
